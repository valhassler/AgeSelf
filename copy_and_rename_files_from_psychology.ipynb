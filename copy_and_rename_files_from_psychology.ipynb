{
 "cells": [
  {
   "cell_type": "code",
   "execution_count": 1,
   "metadata": {},
   "outputs": [],
   "source": [
    "import glob\n",
    "import os\n",
    "import shutil\n",
    "from tqdm import tqdm\n",
    "import pandas as pd"
   ]
  },
  {
   "cell_type": "code",
   "execution_count": 2,
   "metadata": {},
   "outputs": [],
   "source": [
    "# this is to set up the dataset of the Wortschatzinsel project in a way that I can use it with my neural networks in a better way. It is built to run on phobos. And then used to copy it over to the hlrn because i have not found a way\n",
    "# to simply sabamount (gio) to hlrn may be possible in future\n",
    "base_path = \"/run/user/715136/gvfs/smb-share:server=wfs-biologie.top.gwdg.de,share=ubps-all$/Language_Acquisition/HIWI/HIWIstudies/OLDstudiesHIWI/SmallFaces in the Wild HIWI/Data/\"\n",
    "neon_scene_views_paths = glob.glob(os.path.join(base_path,\"Neon/*/4*/*/*Scene*.mp4\"))\n",
    "pupilcore_scene_views_paths = glob.glob(os.path.join(base_path,\"Pupil Core/raspi-*/*/*/world.mp4\"))\n",
    "pupilcore_scene_views_alternative_paths = glob.glob(os.path.join(base_path,\"Pupil Core/raspi-*/*/*/*/world.mp4\"))"
   ]
  },
  {
   "cell_type": "code",
   "execution_count": 3,
   "metadata": {},
   "outputs": [],
   "source": [
    "\n",
    "exclusions = ['ignore', 'missing', 'invalid', 'test']\n",
    "neon_scene_views_paths = [path for path in neon_scene_views_paths if not any(sub in path for sub in exclusions)]\n",
    "neon_scene_view_nrs = [int(path.split(\"/\")[-3]) for path in neon_scene_views_paths]\n",
    "neon_scene_vies_old_name = [path.split(\"/\")[-3] for path in neon_scene_views_paths]\n",
    "\n",
    "pupilcore_scene_views_paths = [path for path in pupilcore_scene_views_paths if not any(sub in path for sub in exclusions)]\n",
    "pupilcore_scene_view_nrs = [int(path.split(\"/\")[-2].split(\"_\")[0]) for path in pupilcore_scene_views_paths]\n",
    "pupilcore_scene_view_old_name = [path.split(\"/\")[-2] for path in pupilcore_scene_views_paths]\n",
    "exclusions.append(\"old\")\n",
    "pupilcore_scene_views_alternative_paths = [path for path in pupilcore_scene_views_alternative_paths if not any(sub in path for sub in exclusions)]\n",
    "pupilcore_scene_view_alternative_nrs = [int(path.split(\"/\")[-3].split(\"_\")[0]) for path in pupilcore_scene_views_alternative_paths]\n",
    "pupilcore_scene_view_alternative_old_name = [path.split(\"/\")[-3] for path in pupilcore_scene_views_alternative_paths]\n",
    "\n",
    "scene_view_paths = neon_scene_views_paths + pupilcore_scene_views_paths + pupilcore_scene_views_alternative_paths\n",
    "scene_view_nrs = neon_scene_view_nrs + pupilcore_scene_view_nrs + pupilcore_scene_view_alternative_nrs\n",
    "scene_view_old_name = neon_scene_vies_old_name + pupilcore_scene_view_old_name + pupilcore_scene_view_alternative_old_name\n",
    "\n",
    "scene_view_df = pd.DataFrame({\"path\":scene_view_paths,\"scene_view_nr\":scene_view_nrs, \"old_name\":scene_view_old_name})\n",
    "scene_view_df[\"neon\"] = scene_view_df[\"path\"].str.contains(\"/Neon/\")\n",
    "\n",
    "scene_view_df[\"nr\"] = range(len(scene_view_df))\n",
    "\n",
    "scene_view_df[\"new_name\"] = scene_view_df[\"scene_view_nr\"].astype(str) + \"_help_\" +  scene_view_df[\"nr\"].astype(str)"
   ]
  },
  {
   "cell_type": "code",
   "execution_count": 4,
   "metadata": {},
   "outputs": [],
   "source": [
    "#because naming changed after some stuff happend on the server, therefore we need to make sure that the names are still correct next time\n",
    "# \n",
    "\n",
    "#scene_view_df = pd.read_csv(\"/usr/users/vhassle/datasets/Wortschatzinsel/head_mounted_data/scene_view_creation_df.csv\")\n",
    "scene_view_orig_df = pd.read_csv(\"/usr/users/vhassle/datasets/Wortschatzinsel/head_mounted_data/scene_view_creation_df_orig_names.csv\")\n",
    "scene_view_orig_df.columns = [name+\"_orig\" for name in scene_view_orig_df.columns]\n",
    "scene_view_df = pd.merge(scene_view_df, scene_view_orig_df, left_on=\"old_name\", right_on=\"old_name_orig\", how=\"inner\")\n",
    "scene_view_df[\"new_name\"] = scene_view_df[\"new_name_orig\"].combine_first(scene_view_df[\"new_name\"])\n",
    "scene_view_df.drop(columns=[name for name in scene_view_df.columns if \"_orig\" in name], inplace=True)\n",
    "\n",
    "scene_view_df_neon = scene_view_df[scene_view_df[\"neon\"]]\n",
    "scene_view_df_pupilcore = scene_view_df[~scene_view_df[\"neon\"]]\n",
    "\n",
    "base_path_server = \"/usr/users/vhassle/datasets/Wortschatzinsel/head_mounted_data\""
   ]
  },
  {
   "cell_type": "code",
   "execution_count": 5,
   "metadata": {},
   "outputs": [
    {
     "name": "stderr",
     "output_type": "stream",
     "text": [
      "Copying files: 105it [00:00, 1036.98it/s]"
     ]
    },
    {
     "name": "stdout",
     "output_type": "stream",
     "text": [
      "Skipping: Destination file exists - /usr/users/vhassle/datasets/Wortschatzinsel/head_mounted_data/videos/437_help_0.mp4\n",
      "Skipping: Destination file exists - /usr/users/vhassle/datasets/Wortschatzinsel/head_mounted_data/videos/435_help_1.mp4\n",
      "Skipping: Destination file exists - /usr/users/vhassle/datasets/Wortschatzinsel/head_mounted_data/videos/436_help_2.mp4\n",
      "Skipping: Destination file exists - /usr/users/vhassle/datasets/Wortschatzinsel/head_mounted_data/videos/442_help_3.mp4\n",
      "Skipping: Destination file exists - /usr/users/vhassle/datasets/Wortschatzinsel/head_mounted_data/videos/449_help_4.mp4\n",
      "Skipping: Destination file exists - /usr/users/vhassle/datasets/Wortschatzinsel/head_mounted_data/videos/441_help_5.mp4\n",
      "Skipping: Destination file exists - /usr/users/vhassle/datasets/Wortschatzinsel/head_mounted_data/videos/439_help_6.mp4\n",
      "Skipping: Destination file exists - /usr/users/vhassle/datasets/Wortschatzinsel/head_mounted_data/videos/443_help_7.mp4\n",
      "Skipping: Destination file exists - /usr/users/vhassle/datasets/Wortschatzinsel/head_mounted_data/videos/446_help_8.mp4\n",
      "Skipping: Destination file exists - /usr/users/vhassle/datasets/Wortschatzinsel/head_mounted_data/videos/450_help_9.mp4\n",
      "Skipping: Destination file exists - /usr/users/vhassle/datasets/Wortschatzinsel/head_mounted_data/videos/447_help_10.mp4\n",
      "Skipping: Destination file exists - /usr/users/vhassle/datasets/Wortschatzinsel/head_mounted_data/videos/448_help_11.mp4\n",
      "Skipping: Destination file exists - /usr/users/vhassle/datasets/Wortschatzinsel/head_mounted_data/videos/440_help_12.mp4\n",
      "Skipping: Destination file exists - /usr/users/vhassle/datasets/Wortschatzinsel/head_mounted_data/videos/445_help_13.mp4\n",
      "Skipping: Destination file exists - /usr/users/vhassle/datasets/Wortschatzinsel/head_mounted_data/videos/444_help_14.mp4\n",
      "Skipping: Destination file exists - /usr/users/vhassle/datasets/Wortschatzinsel/head_mounted_data/videos/438_help_15.mp4\n",
      "Skipping: Destination file exists - /usr/users/vhassle/datasets/Wortschatzinsel/head_mounted_data/videos/451_help_16.mp4\n",
      "Skipping: Destination file exists - /usr/users/vhassle/datasets/Wortschatzinsel/head_mounted_data/videos/413_help_17.mp4\n",
      "Skipping: Destination file exists - /usr/users/vhassle/datasets/Wortschatzinsel/head_mounted_data/videos/403_help_18.mp4\n",
      "Skipping: Destination file exists - /usr/users/vhassle/datasets/Wortschatzinsel/head_mounted_data/videos/404_help_19.mp4\n",
      "Skipping: Destination file exists - /usr/users/vhassle/datasets/Wortschatzinsel/head_mounted_data/videos/405_help_20.mp4\n",
      "Skipping: Destination file exists - /usr/users/vhassle/datasets/Wortschatzinsel/head_mounted_data/videos/406_help_21.mp4\n",
      "Skipping: Destination file exists - /usr/users/vhassle/datasets/Wortschatzinsel/head_mounted_data/videos/407_help_22.mp4\n",
      "Skipping: Destination file exists - /usr/users/vhassle/datasets/Wortschatzinsel/head_mounted_data/videos/408_help_23.mp4\n",
      "Skipping: Destination file exists - /usr/users/vhassle/datasets/Wortschatzinsel/head_mounted_data/videos/410_help_24.mp4\n",
      "Skipping: Destination file exists - /usr/users/vhassle/datasets/Wortschatzinsel/head_mounted_data/videos/412_help_25.mp4\n",
      "Skipping: Destination file exists - /usr/users/vhassle/datasets/Wortschatzinsel/head_mounted_data/videos/414_help_26.mp4\n",
      "Skipping: Destination file exists - /usr/users/vhassle/datasets/Wortschatzinsel/head_mounted_data/videos/415_help_27.mp4\n",
      "Skipping: Destination file exists - /usr/users/vhassle/datasets/Wortschatzinsel/head_mounted_data/videos/452_help_28.mp4\n",
      "Skipping: Destination file exists - /usr/users/vhassle/datasets/Wortschatzinsel/head_mounted_data/videos/419_help_29.mp4\n",
      "Skipping: Destination file exists - /usr/users/vhassle/datasets/Wortschatzinsel/head_mounted_data/videos/418_help_30.mp4\n",
      "Skipping: Destination file exists - /usr/users/vhassle/datasets/Wortschatzinsel/head_mounted_data/videos/417_help_31.mp4\n",
      "Skipping: Destination file exists - /usr/users/vhassle/datasets/Wortschatzinsel/head_mounted_data/videos/421_help_32.mp4\n",
      "Skipping: Destination file exists - /usr/users/vhassle/datasets/Wortschatzinsel/head_mounted_data/videos/422_help_33.mp4\n",
      "Skipping: Destination file exists - /usr/users/vhassle/datasets/Wortschatzinsel/head_mounted_data/videos/416_help_34.mp4\n",
      "Skipping: Destination file exists - /usr/users/vhassle/datasets/Wortschatzinsel/head_mounted_data/videos/423_help_35.mp4\n",
      "Skipping: Destination file exists - /usr/users/vhassle/datasets/Wortschatzinsel/head_mounted_data/videos/425_help_36.mp4\n",
      "Skipping: Destination file exists - /usr/users/vhassle/datasets/Wortschatzinsel/head_mounted_data/videos/426_help_37.mp4\n",
      "Skipping: Destination file exists - /usr/users/vhassle/datasets/Wortschatzinsel/head_mounted_data/videos/427_help_38.mp4\n",
      "Skipping: Destination file exists - /usr/users/vhassle/datasets/Wortschatzinsel/head_mounted_data/videos/428_help_39.mp4\n",
      "Skipping: Destination file exists - /usr/users/vhassle/datasets/Wortschatzinsel/head_mounted_data/videos/430_help_40.mp4\n",
      "Skipping: Destination file exists - /usr/users/vhassle/datasets/Wortschatzinsel/head_mounted_data/videos/431_help_41.mp4\n",
      "Skipping: Destination file exists - /usr/users/vhassle/datasets/Wortschatzinsel/head_mounted_data/videos/429_help_42.mp4\n",
      "Skipping: Destination file exists - /usr/users/vhassle/datasets/Wortschatzinsel/head_mounted_data/videos/204_help_43.mp4\n",
      "Skipping: Destination file exists - /usr/users/vhassle/datasets/Wortschatzinsel/head_mounted_data/videos/205_help_44.mp4\n",
      "Skipping: Destination file exists - /usr/users/vhassle/datasets/Wortschatzinsel/head_mounted_data/videos/206_help_45.mp4\n",
      "Skipping: Destination file exists - /usr/users/vhassle/datasets/Wortschatzinsel/head_mounted_data/videos/209_help_46.mp4\n",
      "Skipping: Destination file exists - /usr/users/vhassle/datasets/Wortschatzinsel/head_mounted_data/videos/208_help_47.mp4\n",
      "Skipping: Destination file exists - /usr/users/vhassle/datasets/Wortschatzinsel/head_mounted_data/videos/210_help_48.mp4\n",
      "Skipping: Destination file exists - /usr/users/vhassle/datasets/Wortschatzinsel/head_mounted_data/videos/211_help_49.mp4\n",
      "Skipping: Destination file exists - /usr/users/vhassle/datasets/Wortschatzinsel/head_mounted_data/videos/212_help_50.mp4\n",
      "Skipping: Destination file exists - /usr/users/vhassle/datasets/Wortschatzinsel/head_mounted_data/videos/214_help_51.mp4\n",
      "Skipping: Destination file exists - /usr/users/vhassle/datasets/Wortschatzinsel/head_mounted_data/videos/213_help_52.mp4\n",
      "Skipping: Destination file exists - /usr/users/vhassle/datasets/Wortschatzinsel/head_mounted_data/videos/215_help_53.mp4\n",
      "Skipping: Destination file exists - /usr/users/vhassle/datasets/Wortschatzinsel/head_mounted_data/videos/217_help_54.mp4\n",
      "Skipping: Destination file exists - /usr/users/vhassle/datasets/Wortschatzinsel/head_mounted_data/videos/216_help_55.mp4\n",
      "Skipping: Destination file exists - /usr/users/vhassle/datasets/Wortschatzinsel/head_mounted_data/videos/219_help_56.mp4\n",
      "Skipping: Destination file exists - /usr/users/vhassle/datasets/Wortschatzinsel/head_mounted_data/videos/104_help_57.mp4\n",
      "Skipping: Destination file exists - /usr/users/vhassle/datasets/Wortschatzinsel/head_mounted_data/videos/105_help_58.mp4\n",
      "Skipping: Destination file exists - /usr/users/vhassle/datasets/Wortschatzinsel/head_mounted_data/videos/106_help_59.mp4\n",
      "Skipping: Destination file exists - /usr/users/vhassle/datasets/Wortschatzinsel/head_mounted_data/videos/110_help_60.mp4\n",
      "Skipping: Destination file exists - /usr/users/vhassle/datasets/Wortschatzinsel/head_mounted_data/videos/111_help_61.mp4\n",
      "Skipping: Destination file exists - /usr/users/vhassle/datasets/Wortschatzinsel/head_mounted_data/videos/502_help_62.mp4\n",
      "Skipping: Destination file exists - /usr/users/vhassle/datasets/Wortschatzinsel/head_mounted_data/videos/503_help_63.mp4\n",
      "Skipping: Destination file exists - /usr/users/vhassle/datasets/Wortschatzinsel/head_mounted_data/videos/504_help_64.mp4\n",
      "Skipping: Destination file exists - /usr/users/vhassle/datasets/Wortschatzinsel/head_mounted_data/videos/505_help_65.mp4\n",
      "Skipping: Destination file exists - /usr/users/vhassle/datasets/Wortschatzinsel/head_mounted_data/videos/517_help_66.mp4\n",
      "Skipping: Destination file exists - /usr/users/vhassle/datasets/Wortschatzinsel/head_mounted_data/videos/506_help_67.mp4\n",
      "Skipping: Destination file exists - /usr/users/vhassle/datasets/Wortschatzinsel/head_mounted_data/videos/507_help_68.mp4\n",
      "Skipping: Destination file exists - /usr/users/vhassle/datasets/Wortschatzinsel/head_mounted_data/videos/508_help_69.mp4\n",
      "Skipping: Destination file exists - /usr/users/vhassle/datasets/Wortschatzinsel/head_mounted_data/videos/509_help_70.mp4\n",
      "Skipping: Destination file exists - /usr/users/vhassle/datasets/Wortschatzinsel/head_mounted_data/videos/510_help_71.mp4\n",
      "Skipping: Destination file exists - /usr/users/vhassle/datasets/Wortschatzinsel/head_mounted_data/videos/511_help_72.mp4\n",
      "Skipping: Destination file exists - /usr/users/vhassle/datasets/Wortschatzinsel/head_mounted_data/videos/512_help_73.mp4\n",
      "Skipping: Destination file exists - /usr/users/vhassle/datasets/Wortschatzinsel/head_mounted_data/videos/513_help_74.mp4\n",
      "Skipping: Destination file exists - /usr/users/vhassle/datasets/Wortschatzinsel/head_mounted_data/videos/514_help_76.mp4\n",
      "Skipping: Destination file exists - /usr/users/vhassle/datasets/Wortschatzinsel/head_mounted_data/videos/515_help_77.mp4\n",
      "Skipping: Destination file exists - /usr/users/vhassle/datasets/Wortschatzinsel/head_mounted_data/videos/519_help_78.mp4\n",
      "Skipping: Destination file exists - /usr/users/vhassle/datasets/Wortschatzinsel/head_mounted_data/videos/501_help_79.mp4\n",
      "Skipping: Destination file exists - /usr/users/vhassle/datasets/Wortschatzinsel/head_mounted_data/videos/0_help_80.mp4\n",
      "Skipping: Destination file exists - /usr/users/vhassle/datasets/Wortschatzinsel/head_mounted_data/videos/0_help_91.mp4\n",
      "Skipping: Destination file exists - /usr/users/vhassle/datasets/Wortschatzinsel/head_mounted_data/videos/520_help_81.mp4\n",
      "Skipping: Destination file exists - /usr/users/vhassle/datasets/Wortschatzinsel/head_mounted_data/videos/609_help_82.mp4\n",
      "Skipping: Destination file exists - /usr/users/vhassle/datasets/Wortschatzinsel/head_mounted_data/videos/610_help_83.mp4\n",
      "Skipping: Destination file exists - /usr/users/vhassle/datasets/Wortschatzinsel/head_mounted_data/videos/611_help_84.mp4\n",
      "Skipping: Destination file exists - /usr/users/vhassle/datasets/Wortschatzinsel/head_mounted_data/videos/612_help_86.mp4\n",
      "Skipping: Destination file exists - /usr/users/vhassle/datasets/Wortschatzinsel/head_mounted_data/videos/613_help_87.mp4\n",
      "Skipping: Destination file exists - /usr/users/vhassle/datasets/Wortschatzinsel/head_mounted_data/videos/614_help_88.mp4\n",
      "Skipping: Destination file exists - /usr/users/vhassle/datasets/Wortschatzinsel/head_mounted_data/videos/615_help_89.mp4\n",
      "Skipping: Destination file exists - /usr/users/vhassle/datasets/Wortschatzinsel/head_mounted_data/videos/616_help_90.mp4\n",
      "Skipping: Destination file exists - /usr/users/vhassle/datasets/Wortschatzinsel/head_mounted_data/videos/704_help_92.mp4\n",
      "Skipping: Destination file exists - /usr/users/vhassle/datasets/Wortschatzinsel/head_mounted_data/videos/703_help_93.mp4\n",
      "Skipping: Destination file exists - /usr/users/vhassle/datasets/Wortschatzinsel/head_mounted_data/videos/702_help_94.mp4\n",
      "Skipping: Destination file exists - /usr/users/vhassle/datasets/Wortschatzinsel/head_mounted_data/videos/522_help_95.mp4\n",
      "Skipping: Destination file exists - /usr/users/vhassle/datasets/Wortschatzinsel/head_mounted_data/videos/523_help_96.mp4\n",
      "Skipping: Destination file exists - /usr/users/vhassle/datasets/Wortschatzinsel/head_mounted_data/videos/525_help_97.mp4\n",
      "Skipping: Destination file exists - /usr/users/vhassle/datasets/Wortschatzinsel/head_mounted_data/videos/526_help_98.mp4\n",
      "Skipping: Destination file exists - /usr/users/vhassle/datasets/Wortschatzinsel/head_mounted_data/videos/620_help_99.mp4\n",
      "Skipping: Destination file exists - /usr/users/vhassle/datasets/Wortschatzinsel/head_mounted_data/videos/618_help_100.mp4\n",
      "Skipping: Destination file exists - /usr/users/vhassle/datasets/Wortschatzinsel/head_mounted_data/videos/619_help_101.mp4\n",
      "Skipping: Destination file exists - /usr/users/vhassle/datasets/Wortschatzinsel/head_mounted_data/videos/622_help_102.mp4\n",
      "Skipping: Destination file exists - /usr/users/vhassle/datasets/Wortschatzinsel/head_mounted_data/videos/623_help_103.mp4\n",
      "Skipping: Destination file exists - /usr/users/vhassle/datasets/Wortschatzinsel/head_mounted_data/videos/624_help_104.mp4\n",
      "Skipping: Destination file exists - /usr/users/vhassle/datasets/Wortschatzinsel/head_mounted_data/videos/625_help_105.mp4\n",
      "Skipping: Destination file exists - /usr/users/vhassle/datasets/Wortschatzinsel/head_mounted_data/videos/617_help_106.mp4\n"
     ]
    },
    {
     "name": "stderr",
     "output_type": "stream",
     "text": [
      "\n"
     ]
    }
   ],
   "source": [
    "# copies over all the video files that takes a while therefore it is commented out as default\n",
    "for index, row in tqdm(scene_view_df.iterrows(), desc=\"Copying files\"):\n",
    "    source_path = row['path']\n",
    "    destination_path = f\"{base_path_server}/videos/{row['new_name']}.mp4\"\n",
    "    \n",
    "    # Skip if destination file already exists\n",
    "    if not os.path.exists(destination_path):\n",
    "        shutil.copy(source_path, destination_path)\n",
    "        print(f\"Copied: {source_path} -> {destination_path}\")\n",
    "    else:\n",
    "        print(f\"Skipping: Destination file exists - {destination_path}\")"
   ]
  },
  {
   "cell_type": "code",
   "execution_count": 6,
   "metadata": {},
   "outputs": [
    {
     "name": "stderr",
     "output_type": "stream",
     "text": [
      "0it [00:00, ?it/s]/tmp/ipykernel_12564/3223248934.py:6: SettingWithCopyWarning: \n",
      "A value is trying to be set on a copy of a slice from a DataFrame.\n",
      "Try using .loc[row_indexer,col_indexer] = value instead\n",
      "\n",
      "See the caveats in the documentation: https://pandas.pydata.org/pandas-docs/stable/user_guide/indexing.html#returning-a-view-versus-a-copy\n",
      "  scene_view_df_neon.at[index, \"gaze_position_path\"] = gaze_path\n",
      "13it [00:00, 18.46it/s]/tmp/ipykernel_12564/3223248934.py:17: SettingWithCopyWarning: \n",
      "A value is trying to be set on a copy of a slice from a DataFrame.\n",
      "Try using .loc[row_indexer,col_indexer] = value instead\n",
      "\n",
      "See the caveats in the documentation: https://pandas.pydata.org/pandas-docs/stable/user_guide/indexing.html#returning-a-view-versus-a-copy\n",
      "  scene_view_df_neon.at[index, \"world_timestamps_path\"] = world_timestamps_path\n",
      "43it [00:02, 15.59it/s]\n"
     ]
    }
   ],
   "source": [
    "# copy the annotations of the eye tracking data\n",
    "for index, row in tqdm(scene_view_df_neon.iterrows()):\n",
    "    directory_path = os.path.dirname(row[\"path\"])\n",
    "    gaze_files = glob.glob(os.path.join(directory_path, \"neon_player/exports/*/gaze_positions.csv\"))\n",
    "    gaze_path = gaze_files[0] if gaze_files else None\n",
    "    scene_view_df_neon.at[index, \"gaze_position_path\"] = gaze_path\n",
    "\n",
    "    folder_annotation_path = f\"{base_path_server}/eye_tracking_annotations/{row['new_name']}\"\n",
    "    os.makedirs(folder_annotation_path, exist_ok=True)\n",
    "    dest_file = os.path.join(folder_annotation_path, \"gaze_positions.csv\")\n",
    "    if os.path.exists(dest_file):\n",
    "        continue\n",
    "    # if gaze_path is not None:\n",
    "    #     shutil.copy(gaze_path, dest_file)\n",
    "    world_timestamps_files = glob.glob(os.path.join(directory_path, \"neon_player/exports/*/world_timestamps.csv\"))\n",
    "    world_timestamps_path = world_timestamps_files[0] if world_timestamps_files else None\n",
    "    scene_view_df_neon.at[index, \"world_timestamps_path\"] = world_timestamps_path\n",
    "    # if world_timestamps_path is not None:\n",
    "    #     shutil.copy(world_timestamps_path, os.path.join(folder_annotation_path, \"world_timestamps.csv\"))\n"
   ]
  },
  {
   "cell_type": "code",
   "execution_count": 7,
   "metadata": {},
   "outputs": [
    {
     "name": "stderr",
     "output_type": "stream",
     "text": [
      "0it [00:00, ?it/s]/tmp/ipykernel_12564/2206283943.py:10: SettingWithCopyWarning: \n",
      "A value is trying to be set on a copy of a slice from a DataFrame.\n",
      "Try using .loc[row_indexer,col_indexer] = value instead\n",
      "\n",
      "See the caveats in the documentation: https://pandas.pydata.org/pandas-docs/stable/user_guide/indexing.html#returning-a-view-versus-a-copy\n",
      "  scene_view_df_pupilcore.at[index, \"gaze_position_path\"] = gaze_path\n",
      "62it [00:05, 10.97it/s]\n"
     ]
    }
   ],
   "source": [
    "# processing this for the pupilcore data\n",
    "example_path = os.path.dirname(scene_view_df_pupilcore[\"path\"][50])\n",
    "glob.glob(os.path.join(example_path, \"exports/*/gaze_positions.csv\"))\n",
    "\n",
    "\n",
    "for index, row in tqdm(scene_view_df_pupilcore.iterrows()):\n",
    "    directory_path = os.path.dirname(row[\"path\"])\n",
    "    gaze_files = glob.glob(os.path.join(directory_path, \"exports/*/gaze_positions.csv\"))\n",
    "    gaze_path = gaze_files[0] if gaze_files else None\n",
    "    scene_view_df_pupilcore.at[index, \"gaze_position_path\"] = gaze_path\n",
    "\n",
    "    folder_annotation_path = f\"{base_path_server}/eye_tracking_annotations/{row['new_name']}\"\n",
    "    dest_file = os.path.join(folder_annotation_path, \"gaze_positions.csv\")\n",
    "    if os.path.exists(dest_file):\n",
    "        continue\n",
    "    os.makedirs(folder_annotation_path, exist_ok=True)\n",
    "    \n",
    "    if gaze_path is not None:\n",
    "        shutil.copy(gaze_path, os.path.join(folder_annotation_path, \"gaze_positions.csv\"))\n",
    "        # timesteps is not reuired in this case"
   ]
  },
  {
   "cell_type": "code",
   "execution_count": null,
   "metadata": {},
   "outputs": [
    {
     "name": "stdout",
     "output_type": "stream",
     "text": [
      "Descriptive dataframe saved to /usr/users/vhassle/datasets/Wortschatzinsel/head_mounted_data/scene_view_creation_df.csv\n"
     ]
    }
   ],
   "source": [
    "csv_filename = f\"{base_path_server}/scene_view_creation_df.csv\"\n",
    "scene_view_df.to_csv(csv_filename, index=False)\n",
    "print(f\"Descriptive dataframe saved to {csv_filename}\")\n",
    "\n",
    "# rsync -avz vhassle@phobos.cidas.uni-goettingen.de:\"/usr/users/vhassle/datasets/Wortschatzinsel/head_mounted_data/videos/\" \"/mnt/lustre-emmy-hdd/usr/u11216/datasets/Wortschatzinsel/eye_tracking/head_mounted_data/videos/\"\n",
    "# rsync -avz vhassle@phobos.cidas.uni-goettingen.de:\"/usr/users/vhassle/datasets/Wortschatzinsel/head_mounted_data/eye_tracking_annotations/\" \"/mnt/lustre-emmy-hdd/usr/u11216/datasets/Wortschatzinsel/eye_tracking/head_mounted_data/eye_tracking_annotations/\"\n",
    "\n",
    "# scp -avz \"/mnt/lustre-emmy-hdd/usr/u11216/outputs/age_gender_combined_training_r02_25v2/output_with_eyetracking\" vhassle@phobos.cidas.uni-goettingen.de:\"/run/user/715136/gvfs/smb-share:server=wfs-biologie.top.gwdg.de,share=ubps-all\\$/Language_Acquisition/HIWI/HIWIstudies/OLDstudiesHIWI/SmallFaces in the Wild HIWI/Data/head_mounted_tracking_results/results_data\""
   ]
  },
  {
   "cell_type": "code",
   "execution_count": null,
   "metadata": {},
   "outputs": [],
   "source": [
    "#scp -rv \"/mnt/lustre-emmy-hdd/usr/u11216/datasets/Wortschatzinsel/object_detection_train/annotations/videos\" vhassle@phobos.cidas.uni-goettingen.de:\"/run/user/715136/gvfs/smb-share:server=wfs-biologie.top.gwdg.de,share=ubps-all\\$/Language_Acquisition/HIWI/HIWIstudies/OLDstudiesHIWI/SmallFaces in the Wild HIWI/Data/top_view_tracking_results/videos\""
   ]
  }
 ],
 "metadata": {
  "kernelspec": {
   "display_name": "MOTIP_backup",
   "language": "python",
   "name": "python3"
  },
  "language_info": {
   "codemirror_mode": {
    "name": "ipython",
    "version": 3
   },
   "file_extension": ".py",
   "mimetype": "text/x-python",
   "name": "python",
   "nbconvert_exporter": "python",
   "pygments_lexer": "ipython3",
   "version": "3.11.6"
  }
 },
 "nbformat": 4,
 "nbformat_minor": 2
}
