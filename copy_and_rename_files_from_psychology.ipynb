{
 "cells": [
  {
   "cell_type": "code",
   "execution_count": 1,
   "metadata": {},
   "outputs": [],
   "source": [
    "import glob\n",
    "import os\n",
    "import shutil\n",
    "from tqdm import tqdm\n",
    "import pandas as pd"
   ]
  },
  {
   "cell_type": "code",
   "execution_count": 2,
   "metadata": {},
   "outputs": [],
   "source": [
    "base_path = \"/run/user/715136/gvfs/smb-share:server=wfs-biologie.top.gwdg.de,share=ubps-all$/Language_Acquisition/HIWI/HIWIstudies/OLDstudiesHIWI/SmallFaces in the Wild HIWI/Data/\"\n",
    "neon_scene_views_paths = glob.glob(os.path.join(base_path,\"Neon/*/4*/*/*Scene*.mp4\"))\n",
    "pupilcore_scene_views_paths = glob.glob(os.path.join(base_path,\"Pupil Core/raspi-*/*/*/world.mp4\"))"
   ]
  },
  {
   "cell_type": "code",
   "execution_count": 68,
   "metadata": {},
   "outputs": [],
   "source": [
    "\n",
    "neon_scene_views_paths = [path for path in neon_scene_views_paths if \"ignore\" not in path]\n",
    "neon_scene_views_paths = [path for path in neon_scene_views_paths if \"invalid\" not in path]\n",
    "neon_scene_view_nrs = [int(path.split(\"/\")[-3]) for path in neon_scene_views_paths]\n",
    "\n",
    "\n",
    "pupilcore_scene_views_paths = [path for path in pupilcore_scene_views_paths if \"ignore\" not in path]\n",
    "pupilcore_scene_views_paths = [path for path in pupilcore_scene_views_paths if \"invalid\" not in path]\n",
    "pupilcore_scene_view_nrs = [int(path.split(\"/\")[-2].split(\"_\")[0]) for path in pupilcore_scene_views_paths]\n",
    "\n",
    "scene_view_paths = neon_scene_views_paths + pupilcore_scene_views_paths\n",
    "scene_view_nrs = neon_scene_view_nrs + pupilcore_scene_view_nrs\n",
    "scene_view_df = pd.DataFrame({\"path\":scene_view_paths,\"scene_view_nr\":scene_view_nrs})\n",
    "scene_view_df[\"neon\"] = scene_view_df[\"path\"].str.contains(\"/Neon/\")\n",
    "\n",
    "scene_view_df[\"nr\"] = range(len(scene_view_df))\n",
    "\n",
    "scene_view_df[\"new_name\"] = scene_view_df[\"scene_view_nr\"].astype(str) + \"_help_\" +  scene_view_df[\"nr\"].astype(str)\n",
    "\n",
    "scene_view_df[\"gaze_position_path\"] = None\n",
    "scene_view_df[\"world_timestamps_path\"] = None\n",
    "\n",
    "\n",
    "scene_view_df_neon = scene_view_df[scene_view_df[\"neon\"]]\n",
    "scene_view_df_pupilcore = scene_view_df[~scene_view_df[\"neon\"]]"
   ]
  },
  {
   "cell_type": "code",
   "execution_count": null,
   "metadata": {},
   "outputs": [],
   "source": [
    "# # copies over all the video files that takes a while therefore it is commented out as default\n",
    "# for index, row in tqdm(scene_view_df.iterrows()):\n",
    "#     print(row[\"path\"],row[[\"new_name\"]])\n",
    "#     shutil.copy(row['path'], f\"/usr/users/vhassle/datasets/Wortschatzinsel/head_mounted_data/{row['new_name']}.mp4\")"
   ]
  },
  {
   "cell_type": "code",
   "execution_count": null,
   "metadata": {},
   "outputs": [],
   "source": [
    "# processing this for the neon data\n",
    "for index, row in scene_view_df_neon.iterrows():\n",
    "    directory_path = os.path.dirname(row[\"path\"])\n",
    "    gaze_files = glob.glob(os.path.join(directory_path, \"neon_player/exports/*/gaze_positions.csv\"))\n",
    "    gaze_path = gaze_files[0] if gaze_files else None\n",
    "    scene_view_df_neon.at[index, \"gaze_position_path\"] = gaze_path\n",
    "\n",
    "    folder_annotation_path = f\"/usr/users/vhassle/datasets/Wortschatzinsel/head_mounted_data/eye_tracking_annotations/{row['new_name']}\"\n",
    "    print(folder_annotation_path)\n",
    "    os.makedirs(folder_annotation_path, exist_ok=True)\n",
    "    \n",
    "    if gaze_path is not None:\n",
    "        shutil.copy(gaze_path, os.path.join(folder_annotation_path, \"gaze_positions.csv\"))\n",
    "    world_timestamps_files = glob.glob(os.path.join(directory_path, \"neon_player/exports/*/world_timestamps.csv\"))\n",
    "    world_timestamps_path = world_timestamps_files[0] if world_timestamps_files else None\n",
    "    scene_view_df_neon.at[index, \"world_timestamps_path\"] = world_timestamps_path\n",
    "    if world_timestamps_path is not None:\n",
    "        shutil.copy(world_timestamps_path, os.path.join(folder_annotation_path, \"world_timestamps.csv\"))\n"
   ]
  },
  {
   "cell_type": "code",
   "execution_count": null,
   "metadata": {},
   "outputs": [],
   "source": [
    "# processing this for the pupilcore data\n",
    "example_path = os.path.dirname(scene_view_df_pupilcore[\"path\"][50])\n",
    "glob.glob(os.path.join(example_path, \"exports/*/gaze_positions.csv\"))\n",
    "\n",
    "\n",
    "for index, row in scene_view_df_pupilcore.iterrows():\n",
    "    directory_path = os.path.dirname(row[\"path\"])\n",
    "    gaze_files = glob.glob(os.path.join(directory_path, \"exports/*/gaze_positions.csv\"))\n",
    "    gaze_path = gaze_files[0] if gaze_files else None\n",
    "    scene_view_df_pupilcore.at[index, \"gaze_position_path\"] = gaze_path\n",
    "\n",
    "    folder_annotation_path = f\"/usr/users/vhassle/datasets/Wortschatzinsel/head_mounted_data/eye_tracking_annotations/{row['new_name']}\"\n",
    "    print(folder_annotation_path)\n",
    "    os.makedirs(folder_annotation_path, exist_ok=True)\n",
    "    \n",
    "    if gaze_path is not None:\n",
    "        shutil.copy(gaze_path, os.path.join(folder_annotation_path, \"gaze_positions.csv\"))\n",
    "        # timesteps is not reuired in this case"
   ]
  },
  {
   "cell_type": "code",
   "execution_count": null,
   "metadata": {},
   "outputs": [],
   "source": [
    "# exports/*/gaze_positions.csv"
   ]
  }
 ],
 "metadata": {
  "kernelspec": {
   "display_name": "MOTIP_backup",
   "language": "python",
   "name": "python3"
  },
  "language_info": {
   "codemirror_mode": {
    "name": "ipython",
    "version": 3
   },
   "file_extension": ".py",
   "mimetype": "text/x-python",
   "name": "python",
   "nbconvert_exporter": "python",
   "pygments_lexer": "ipython3",
   "version": "3.11.6"
  }
 },
 "nbformat": 4,
 "nbformat_minor": 2
}
