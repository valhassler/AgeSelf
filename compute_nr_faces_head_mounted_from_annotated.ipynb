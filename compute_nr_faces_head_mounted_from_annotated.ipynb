{
 "cells": [
  {
   "cell_type": "code",
   "execution_count": 3,
   "id": "85d261f7",
   "metadata": {},
   "outputs": [],
   "source": [
    "import os\n",
    "import pandas as pd\n",
    "from tqdm import tqdm"
   ]
  },
  {
   "cell_type": "code",
   "execution_count": 4,
   "id": "2e250d15",
   "metadata": {},
   "outputs": [],
   "source": [
    "base_path_psych = \"/run/user/715136/gvfs/smb-share:server=wfs-biologie.top.gwdg.de,share=ubps-all$/Language_Acquisition/HIWI/HIWIstudies/OLDstudiesHIWI/SmallFaces in the Wild HIWI/Data/\"\n",
    "path_to_data = os.path.join(base_path_psych,\"head_mounted_tracking_results/results_data/output_with_eyetracking\")"
   ]
  },
  {
   "cell_type": "code",
   "execution_count": 10,
   "id": "44737b6d",
   "metadata": {},
   "outputs": [],
   "source": [
    "# files_of_interest = [os.path.join(path_to_data,i) for i in os.listdir(path_to_data) if \"with_timestamps.csv\" in i]\n",
    "files_of_interest = [os.path.join(path_to_data,i) for i in os.listdir(path_to_data) if \"headmount.csv\" in i]\n",
    "files_of_interest.sort()"
   ]
  },
  {
   "cell_type": "code",
   "execution_count": null,
   "id": "3f2c1142",
   "metadata": {},
   "outputs": [
    {
     "name": "stderr",
     "output_type": "stream",
     "text": [
      " 30%|███       | 28/92 [01:12<03:18,  3.10s/it]/tmp/ipykernel_1992691/3351157966.py:3: DtypeWarning: Columns (1) have mixed types. Specify dtype option on import or set low_memory=False.\n",
      "  df = pd.read_csv(file)\n",
      " 46%|████▌     | 42/92 [02:04<03:28,  4.16s/it]/tmp/ipykernel_1992691/3351157966.py:3: DtypeWarning: Columns (1) have mixed types. Specify dtype option on import or set low_memory=False.\n",
      "  df = pd.read_csv(file)\n",
      " 72%|███████▏  | 66/92 [03:10<01:09,  2.66s/it]/tmp/ipykernel_1992691/3351157966.py:3: DtypeWarning: Columns (1) have mixed types. Specify dtype option on import or set low_memory=False.\n",
      "  df = pd.read_csv(file)\n",
      "100%|██████████| 92/92 [04:30<00:00,  2.94s/it]\n"
     ]
    }
   ],
   "source": [
    "# read csv with pandas\n",
    "for file in tqdm(files_of_interest):\n",
    "    df = pd.read_csv(file)\n",
    "    df[\"n_adults_headmounted\"] = df[\"age_class\"] == 2\n",
    "    df[\"n_children_headmounted\"] = df[\"age_class\"] < 2\n",
    "    df_grouped = df.groupby(\"frame\").agg(\"sum\")\n",
    "    df.drop(columns=[\"n_children_headmounted\",\"n_adults_headmounted\"], inplace=True)\n",
    "    df_grouped[\"frame\"] = df_grouped.index\n",
    "    df_grouped.index.name = None\n",
    "    df_merged = df.merge(df_grouped[[\"frame\",\"n_adults_headmounted\",\"n_children_headmounted\"]], on=\"frame\", how=\"left\")\n",
    "    #change and of filenemae from \"with_timestamps.csv\" to \"with_ts_and_nr_top.csv\"\n",
    "    file = file.replace(\"annotated_with_timestamps.csv\", \"timestamps_and_nr_person_headmount.csv\")\n",
    "    if os.path.exists(file):\n",
    "        continue\n",
    "    df_merged.to_csv(file, index=False)\n",
    "    #print(file)\n",
    "    \n"
   ]
  },
  {
   "cell_type": "code",
   "execution_count": 2,
   "id": "06e1d427",
   "metadata": {},
   "outputs": [],
   "source": [
    "base_path_psych = \"/run/user/715136/gvfs/smb-share:server=wfs-biologie.top.gwdg.de,share=ubps-all$/Language_Acquisition/HIWI/HIWIstudies/OLDstudiesHIWI/SmallFaces in the Wild HIWI/Data/\"\n"
   ]
  },
  {
   "cell_type": "code",
   "execution_count": 43,
   "id": "3e3af131",
   "metadata": {},
   "outputs": [
    {
     "name": "stderr",
     "output_type": "stream",
     "text": [
      " 22%|██▏       | 20/92 [00:07<00:29,  2.41it/s]/tmp/ipykernel_164415/2947673629.py:9: DtypeWarning: Columns (1) have mixed types. Specify dtype option on import or set low_memory=False.\n",
      "  data = pd.read_csv(path)\n",
      " 39%|███▉      | 36/92 [00:15<00:32,  1.72it/s]/tmp/ipykernel_164415/2947673629.py:9: DtypeWarning: Columns (1) have mixed types. Specify dtype option on import or set low_memory=False.\n",
      "  data = pd.read_csv(path)\n",
      " 70%|██████▉   | 64/92 [00:26<00:13,  2.15it/s]/tmp/ipykernel_164415/2947673629.py:9: DtypeWarning: Columns (1) have mixed types. Specify dtype option on import or set low_memory=False.\n",
      "  data = pd.read_csv(path)\n",
      "100%|██████████| 92/92 [00:39<00:00,  2.35it/s]\n"
     ]
    }
   ],
   "source": [
    "\n",
    "from glob import glob\n",
    "import pandas as pd\n",
    "from tqdm import tqdm\n",
    "\n",
    "data_paths = glob(\"/usr/users/vhassle/datasets/Wortschatzinsel/head_mounted_data/detections/*.csv\")\n",
    "\n",
    "\n",
    "for path in tqdm(data_paths):\n",
    "    data = pd.read_csv(path)\n",
    "    data = data[pd.notnull(data[\"x_l\"])]\n",
    "    data.reset_index(drop=True, inplace=True)\n",
    "\n",
    "    data = data.iloc[:,:12]\n",
    "    data.iloc[:, 2:] = data.iloc[:, 2:].astype(int)\n",
    "\n",
    "    data.to_csv(os.path.join(\"/usr/users/vhassle/model_outputs/age_gender_classification_reversed_from_results\", os.path.basename(path).split(\"_time\")[0])+\".txt\", index=False, header=False)\n",
    "\n",
    "    \n"
   ]
  }
 ],
 "metadata": {
  "kernelspec": {
   "display_name": "curiosity",
   "language": "python",
   "name": "python3"
  },
  "language_info": {
   "codemirror_mode": {
    "name": "ipython",
    "version": 3
   },
   "file_extension": ".py",
   "mimetype": "text/x-python",
   "name": "python",
   "nbconvert_exporter": "python",
   "pygments_lexer": "ipython3",
   "version": "3.11.9"
  }
 },
 "nbformat": 4,
 "nbformat_minor": 5
}
