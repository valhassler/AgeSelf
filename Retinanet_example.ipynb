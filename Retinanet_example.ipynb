{
 "cells": [
  {
   "cell_type": "code",
   "execution_count": 5,
   "metadata": {},
   "outputs": [],
   "source": [
    "import glob\n",
    "import os\n",
    "import shutil"
   ]
  },
  {
   "cell_type": "code",
   "execution_count": 10,
   "metadata": {},
   "outputs": [],
   "source": [
    "base_path = \"/run/user/715136/gvfs/smb-share:server=wfs-biologie.top.gwdg.de,share=ubps-all$/Language_Acquisition/HIWI/HIWIstudies/SmallFaces in the Wild HIWI/Data/\"\n",
    "\n",
    "neon_paths = glob.glob(os.path.join(base_path,\"Neon/*/*Scene*.mp4\")) #neon\n",
    "names_neon = [\"Neon_\" + path.split(\"/\")[-2].replace(\"-\",\"_\") for path in neon_paths]\n",
    "\n",
    "other_cams_paths = glob.glob(os.path.join(base_path,\"Pupil Core/raspi-*/*/*/world.mp4\"))\n",
    "names_other = []\n",
    "for other_cams_path in other_cams_paths:\n",
    "    splitted_name = other_cams_path.split(\"/\")\n",
    "    name = f'{splitted_name[-4].replace(\"-\",\"_\")}_{splitted_name[-3]}_{splitted_name[-2]}'\n",
    "    names_other.append(name)\n",
    "\n",
    "names = names_neon + names_other\n",
    "pahts_all = neon_paths + other_cams_paths"
   ]
  },
  {
   "cell_type": "code",
   "execution_count": 4,
   "metadata": {},
   "outputs": [
    {
     "ename": "NameError",
     "evalue": "name 'paths_all' is not defined",
     "output_type": "error",
     "traceback": [
      "\u001b[0;31m---------------------------------------------------------------------------\u001b[0m",
      "\u001b[0;31mNameError\u001b[0m                                 Traceback (most recent call last)",
      "Cell \u001b[0;32mIn[4], line 1\u001b[0m\n\u001b[0;32m----> 1\u001b[0m \u001b[43mpaths_all\u001b[49m\n",
      "\u001b[0;31mNameError\u001b[0m: name 'paths_all' is not defined"
     ]
    }
   ],
   "source": [
    "for name, path in zip(names, pahts_all):\n",
    "    shutil.copy(path, f\"/usr/users/vhassle/datasets/Wortschatzinsel/all_videos/{name}.mp4\")\n"
   ]
  },
  {
   "cell_type": "code",
   "execution_count": null,
   "metadata": {},
   "outputs": [],
   "source": []
  }
 ],
 "metadata": {
  "kernelspec": {
   "display_name": "MOTIP_backup",
   "language": "python",
   "name": "python3"
  },
  "language_info": {
   "codemirror_mode": {
    "name": "ipython",
    "version": 3
   },
   "file_extension": ".py",
   "mimetype": "text/x-python",
   "name": "python",
   "nbconvert_exporter": "python",
   "pygments_lexer": "ipython3",
   "version": "3.11.6"
  }
 },
 "nbformat": 4,
 "nbformat_minor": 2
}
